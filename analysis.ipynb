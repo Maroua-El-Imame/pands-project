{
 "cells": [
  {
   "cell_type": "markdown",
   "id": "c92c4998",
   "metadata": {},
   "source": [
    "## **Analyzing the Iris dataset using Python**"
   ]
  },
  {
   "cell_type": "markdown",
   "id": "dbea42ae",
   "metadata": {},
   "source": [
    "### Import Python packages:"
   ]
  },
  {
   "cell_type": "code",
   "execution_count": 114,
   "id": "cea69829",
   "metadata": {},
   "outputs": [],
   "source": [
    "\n",
    "# packages will be updated according to the task progression.\n",
    "\n",
    "import csv\n",
    "# for dataframes \n",
    "import pandas as pd\n",
    "# machine Learning Library that contains datasets.\n",
    "import sklearn as skl \n",
    "# plotting library\n",
    "import matplotlib.pyplot as plt\n",
    "# python library for creating iterators to produce complex iterators.  \n",
    "from itertools import combinations\n",
    "# Data visualization library\n",
    "import seaborn as sns"
   ]
  },
  {
   "cell_type": "markdown",
   "id": "8895932f",
   "metadata": {},
   "source": [
    "### Output a summary of each Iris dataset variable to a single text file  \n"
   ]
  },
  {
   "cell_type": "markdown",
   "id": "e4557703",
   "metadata": {},
   "source": [
    "* Load dataset"
   ]
  },
  {
   "cell_type": "code",
   "execution_count": 115,
   "id": "115dec41",
   "metadata": {},
   "outputs": [],
   "source": [
    "# I am correcting this load dataset part.\n",
    "# I did donwload the dataset ann save it into the repository, the issue that I tried to read it from my local maching.\n",
    "# the point of this notebook is to allow to others to use it thus run it without any loading issues.\n",
    "# I now changed teh path from my local machine into the repository location where i previously downloaded the dataset'\"iris dataset\n",
    "\n",
    "\n",
    "# as we already imported pd and downloaded the dataset, I went to the folder where the file is saved, and through properties I did copy the file path.\n",
    "# assigning a value \n",
    "#file_path = (r'C:\\Users\\marou\\Desktop\\pands\\pands-project\\iris dataset\\iris.data')\n",
    "# read the data\n",
    "#iris_data = pd.read_csv(file_path )\n"
   ]
  },
  {
   "cell_type": "code",
   "execution_count": 116,
   "id": "4f669efd",
   "metadata": {},
   "outputs": [
    {
     "data": {
      "text/html": [
       "<div>\n",
       "<style scoped>\n",
       "    .dataframe tbody tr th:only-of-type {\n",
       "        vertical-align: middle;\n",
       "    }\n",
       "\n",
       "    .dataframe tbody tr th {\n",
       "        vertical-align: top;\n",
       "    }\n",
       "\n",
       "    .dataframe thead th {\n",
       "        text-align: right;\n",
       "    }\n",
       "</style>\n",
       "<table border=\"1\" class=\"dataframe\">\n",
       "  <thead>\n",
       "    <tr style=\"text-align: right;\">\n",
       "      <th></th>\n",
       "      <th>5.1</th>\n",
       "      <th>3.5</th>\n",
       "      <th>1.4</th>\n",
       "      <th>0.2</th>\n",
       "      <th>Iris-setosa</th>\n",
       "    </tr>\n",
       "  </thead>\n",
       "  <tbody>\n",
       "    <tr>\n",
       "      <th>0</th>\n",
       "      <td>4.9</td>\n",
       "      <td>3.0</td>\n",
       "      <td>1.4</td>\n",
       "      <td>0.2</td>\n",
       "      <td>Iris-setosa</td>\n",
       "    </tr>\n",
       "    <tr>\n",
       "      <th>1</th>\n",
       "      <td>4.7</td>\n",
       "      <td>3.2</td>\n",
       "      <td>1.3</td>\n",
       "      <td>0.2</td>\n",
       "      <td>Iris-setosa</td>\n",
       "    </tr>\n",
       "    <tr>\n",
       "      <th>2</th>\n",
       "      <td>4.6</td>\n",
       "      <td>3.1</td>\n",
       "      <td>1.5</td>\n",
       "      <td>0.2</td>\n",
       "      <td>Iris-setosa</td>\n",
       "    </tr>\n",
       "    <tr>\n",
       "      <th>3</th>\n",
       "      <td>5.0</td>\n",
       "      <td>3.6</td>\n",
       "      <td>1.4</td>\n",
       "      <td>0.2</td>\n",
       "      <td>Iris-setosa</td>\n",
       "    </tr>\n",
       "    <tr>\n",
       "      <th>4</th>\n",
       "      <td>5.4</td>\n",
       "      <td>3.9</td>\n",
       "      <td>1.7</td>\n",
       "      <td>0.4</td>\n",
       "      <td>Iris-setosa</td>\n",
       "    </tr>\n",
       "    <tr>\n",
       "      <th>...</th>\n",
       "      <td>...</td>\n",
       "      <td>...</td>\n",
       "      <td>...</td>\n",
       "      <td>...</td>\n",
       "      <td>...</td>\n",
       "    </tr>\n",
       "    <tr>\n",
       "      <th>144</th>\n",
       "      <td>6.7</td>\n",
       "      <td>3.0</td>\n",
       "      <td>5.2</td>\n",
       "      <td>2.3</td>\n",
       "      <td>Iris-virginica</td>\n",
       "    </tr>\n",
       "    <tr>\n",
       "      <th>145</th>\n",
       "      <td>6.3</td>\n",
       "      <td>2.5</td>\n",
       "      <td>5.0</td>\n",
       "      <td>1.9</td>\n",
       "      <td>Iris-virginica</td>\n",
       "    </tr>\n",
       "    <tr>\n",
       "      <th>146</th>\n",
       "      <td>6.5</td>\n",
       "      <td>3.0</td>\n",
       "      <td>5.2</td>\n",
       "      <td>2.0</td>\n",
       "      <td>Iris-virginica</td>\n",
       "    </tr>\n",
       "    <tr>\n",
       "      <th>147</th>\n",
       "      <td>6.2</td>\n",
       "      <td>3.4</td>\n",
       "      <td>5.4</td>\n",
       "      <td>2.3</td>\n",
       "      <td>Iris-virginica</td>\n",
       "    </tr>\n",
       "    <tr>\n",
       "      <th>148</th>\n",
       "      <td>5.9</td>\n",
       "      <td>3.0</td>\n",
       "      <td>5.1</td>\n",
       "      <td>1.8</td>\n",
       "      <td>Iris-virginica</td>\n",
       "    </tr>\n",
       "  </tbody>\n",
       "</table>\n",
       "<p>149 rows × 5 columns</p>\n",
       "</div>"
      ],
      "text/plain": [
       "     5.1  3.5  1.4  0.2     Iris-setosa\n",
       "0    4.9  3.0  1.4  0.2     Iris-setosa\n",
       "1    4.7  3.2  1.3  0.2     Iris-setosa\n",
       "2    4.6  3.1  1.5  0.2     Iris-setosa\n",
       "3    5.0  3.6  1.4  0.2     Iris-setosa\n",
       "4    5.4  3.9  1.7  0.4     Iris-setosa\n",
       "..   ...  ...  ...  ...             ...\n",
       "144  6.7  3.0  5.2  2.3  Iris-virginica\n",
       "145  6.3  2.5  5.0  1.9  Iris-virginica\n",
       "146  6.5  3.0  5.2  2.0  Iris-virginica\n",
       "147  6.2  3.4  5.4  2.3  Iris-virginica\n",
       "148  5.9  3.0  5.1  1.8  Iris-virginica\n",
       "\n",
       "[149 rows x 5 columns]"
      ]
     },
     "execution_count": 116,
     "metadata": {},
     "output_type": "execute_result"
    }
   ],
   "source": [
    "# read iris dataset from current repository as a pandas data frame.\n",
    "# the pandas frame will start with values, I need to add column names for better understanding\n",
    "iris_data = pd.read_csv('iris dataset/iris.data')\n",
    "#show\n",
    "iris_data\n"
   ]
  },
  {
   "cell_type": "code",
   "execution_count": 117,
   "id": "c89efbbf",
   "metadata": {},
   "outputs": [
    {
     "data": {
      "text/plain": [
       "['sepal length in cm',\n",
       " 'sepal width in cm',\n",
       " 'petal length in cm',\n",
       " 'petal width in cm',\n",
       " 'class']"
      ]
     },
     "execution_count": 117,
     "metadata": {},
     "output_type": "execute_result"
    }
   ],
   "source": [
    "# identofy the columns names\n",
    "# refering to the documentation file 'iris.names' in this repository. see atributes, which are corresponding to a list of columns names.\n",
    "column_names = ['sepal length in cm' , 'sepal width in cm' , 'petal length in cm' , 'petal width in cm', 'class']\n",
    "column_names\n"
   ]
  },
  {
   "cell_type": "code",
   "execution_count": 118,
   "id": "f73ec13b",
   "metadata": {},
   "outputs": [
    {
     "data": {
      "text/html": [
       "<div>\n",
       "<style scoped>\n",
       "    .dataframe tbody tr th:only-of-type {\n",
       "        vertical-align: middle;\n",
       "    }\n",
       "\n",
       "    .dataframe tbody tr th {\n",
       "        vertical-align: top;\n",
       "    }\n",
       "\n",
       "    .dataframe thead th {\n",
       "        text-align: right;\n",
       "    }\n",
       "</style>\n",
       "<table border=\"1\" class=\"dataframe\">\n",
       "  <thead>\n",
       "    <tr style=\"text-align: right;\">\n",
       "      <th></th>\n",
       "      <th>sepal length in cm</th>\n",
       "      <th>sepal width in cm</th>\n",
       "      <th>petal length in cm</th>\n",
       "      <th>petal width in cm</th>\n",
       "      <th>class</th>\n",
       "    </tr>\n",
       "  </thead>\n",
       "  <tbody>\n",
       "    <tr>\n",
       "      <th>0</th>\n",
       "      <td>5.1</td>\n",
       "      <td>3.5</td>\n",
       "      <td>1.4</td>\n",
       "      <td>0.2</td>\n",
       "      <td>Iris-setosa</td>\n",
       "    </tr>\n",
       "    <tr>\n",
       "      <th>1</th>\n",
       "      <td>4.9</td>\n",
       "      <td>3.0</td>\n",
       "      <td>1.4</td>\n",
       "      <td>0.2</td>\n",
       "      <td>Iris-setosa</td>\n",
       "    </tr>\n",
       "    <tr>\n",
       "      <th>2</th>\n",
       "      <td>4.7</td>\n",
       "      <td>3.2</td>\n",
       "      <td>1.3</td>\n",
       "      <td>0.2</td>\n",
       "      <td>Iris-setosa</td>\n",
       "    </tr>\n",
       "    <tr>\n",
       "      <th>3</th>\n",
       "      <td>4.6</td>\n",
       "      <td>3.1</td>\n",
       "      <td>1.5</td>\n",
       "      <td>0.2</td>\n",
       "      <td>Iris-setosa</td>\n",
       "    </tr>\n",
       "    <tr>\n",
       "      <th>4</th>\n",
       "      <td>5.0</td>\n",
       "      <td>3.6</td>\n",
       "      <td>1.4</td>\n",
       "      <td>0.2</td>\n",
       "      <td>Iris-setosa</td>\n",
       "    </tr>\n",
       "    <tr>\n",
       "      <th>...</th>\n",
       "      <td>...</td>\n",
       "      <td>...</td>\n",
       "      <td>...</td>\n",
       "      <td>...</td>\n",
       "      <td>...</td>\n",
       "    </tr>\n",
       "    <tr>\n",
       "      <th>145</th>\n",
       "      <td>6.7</td>\n",
       "      <td>3.0</td>\n",
       "      <td>5.2</td>\n",
       "      <td>2.3</td>\n",
       "      <td>Iris-virginica</td>\n",
       "    </tr>\n",
       "    <tr>\n",
       "      <th>146</th>\n",
       "      <td>6.3</td>\n",
       "      <td>2.5</td>\n",
       "      <td>5.0</td>\n",
       "      <td>1.9</td>\n",
       "      <td>Iris-virginica</td>\n",
       "    </tr>\n",
       "    <tr>\n",
       "      <th>147</th>\n",
       "      <td>6.5</td>\n",
       "      <td>3.0</td>\n",
       "      <td>5.2</td>\n",
       "      <td>2.0</td>\n",
       "      <td>Iris-virginica</td>\n",
       "    </tr>\n",
       "    <tr>\n",
       "      <th>148</th>\n",
       "      <td>6.2</td>\n",
       "      <td>3.4</td>\n",
       "      <td>5.4</td>\n",
       "      <td>2.3</td>\n",
       "      <td>Iris-virginica</td>\n",
       "    </tr>\n",
       "    <tr>\n",
       "      <th>149</th>\n",
       "      <td>5.9</td>\n",
       "      <td>3.0</td>\n",
       "      <td>5.1</td>\n",
       "      <td>1.8</td>\n",
       "      <td>Iris-virginica</td>\n",
       "    </tr>\n",
       "  </tbody>\n",
       "</table>\n",
       "<p>150 rows × 5 columns</p>\n",
       "</div>"
      ],
      "text/plain": [
       "     sepal length in cm  sepal width in cm  petal length in cm  \\\n",
       "0                   5.1                3.5                 1.4   \n",
       "1                   4.9                3.0                 1.4   \n",
       "2                   4.7                3.2                 1.3   \n",
       "3                   4.6                3.1                 1.5   \n",
       "4                   5.0                3.6                 1.4   \n",
       "..                  ...                ...                 ...   \n",
       "145                 6.7                3.0                 5.2   \n",
       "146                 6.3                2.5                 5.0   \n",
       "147                 6.5                3.0                 5.2   \n",
       "148                 6.2                3.4                 5.4   \n",
       "149                 5.9                3.0                 5.1   \n",
       "\n",
       "     petal width in cm           class  \n",
       "0                  0.2     Iris-setosa  \n",
       "1                  0.2     Iris-setosa  \n",
       "2                  0.2     Iris-setosa  \n",
       "3                  0.2     Iris-setosa  \n",
       "4                  0.2     Iris-setosa  \n",
       "..                 ...             ...  \n",
       "145                2.3  Iris-virginica  \n",
       "146                1.9  Iris-virginica  \n",
       "147                2.0  Iris-virginica  \n",
       "148                2.3  Iris-virginica  \n",
       "149                1.8  Iris-virginica  \n",
       "\n",
       "[150 rows x 5 columns]"
      ]
     },
     "execution_count": 118,
     "metadata": {},
     "output_type": "execute_result"
    }
   ],
   "source": [
    "# now that I identified the column names, I can add them so I can identify the columns easily.\n",
    "iris_data = pd.read_csv('iris dataset/iris.data', names= column_names)\n",
    "# show dataframe\n",
    "iris_data\n"
   ]
  },
  {
   "cell_type": "markdown",
   "id": "2aa8326d",
   "metadata": {},
   "source": [
    "### Summary of each Iris dataset variable"
   ]
  },
  {
   "cell_type": "code",
   "execution_count": 119,
   "id": "40d09385",
   "metadata": {},
   "outputs": [
    {
     "data": {
      "text/html": [
       "<div>\n",
       "<style scoped>\n",
       "    .dataframe tbody tr th:only-of-type {\n",
       "        vertical-align: middle;\n",
       "    }\n",
       "\n",
       "    .dataframe tbody tr th {\n",
       "        vertical-align: top;\n",
       "    }\n",
       "\n",
       "    .dataframe thead th {\n",
       "        text-align: right;\n",
       "    }\n",
       "</style>\n",
       "<table border=\"1\" class=\"dataframe\">\n",
       "  <thead>\n",
       "    <tr style=\"text-align: right;\">\n",
       "      <th></th>\n",
       "      <th>sepal length in cm</th>\n",
       "      <th>sepal width in cm</th>\n",
       "      <th>petal length in cm</th>\n",
       "      <th>petal width in cm</th>\n",
       "    </tr>\n",
       "  </thead>\n",
       "  <tbody>\n",
       "    <tr>\n",
       "      <th>count</th>\n",
       "      <td>150.000000</td>\n",
       "      <td>150.000000</td>\n",
       "      <td>150.000000</td>\n",
       "      <td>150.000000</td>\n",
       "    </tr>\n",
       "    <tr>\n",
       "      <th>mean</th>\n",
       "      <td>5.843333</td>\n",
       "      <td>3.054000</td>\n",
       "      <td>3.758667</td>\n",
       "      <td>1.198667</td>\n",
       "    </tr>\n",
       "    <tr>\n",
       "      <th>std</th>\n",
       "      <td>0.828066</td>\n",
       "      <td>0.433594</td>\n",
       "      <td>1.764420</td>\n",
       "      <td>0.763161</td>\n",
       "    </tr>\n",
       "    <tr>\n",
       "      <th>min</th>\n",
       "      <td>4.300000</td>\n",
       "      <td>2.000000</td>\n",
       "      <td>1.000000</td>\n",
       "      <td>0.100000</td>\n",
       "    </tr>\n",
       "    <tr>\n",
       "      <th>25%</th>\n",
       "      <td>5.100000</td>\n",
       "      <td>2.800000</td>\n",
       "      <td>1.600000</td>\n",
       "      <td>0.300000</td>\n",
       "    </tr>\n",
       "    <tr>\n",
       "      <th>50%</th>\n",
       "      <td>5.800000</td>\n",
       "      <td>3.000000</td>\n",
       "      <td>4.350000</td>\n",
       "      <td>1.300000</td>\n",
       "    </tr>\n",
       "    <tr>\n",
       "      <th>75%</th>\n",
       "      <td>6.400000</td>\n",
       "      <td>3.300000</td>\n",
       "      <td>5.100000</td>\n",
       "      <td>1.800000</td>\n",
       "    </tr>\n",
       "    <tr>\n",
       "      <th>max</th>\n",
       "      <td>7.900000</td>\n",
       "      <td>4.400000</td>\n",
       "      <td>6.900000</td>\n",
       "      <td>2.500000</td>\n",
       "    </tr>\n",
       "  </tbody>\n",
       "</table>\n",
       "</div>"
      ],
      "text/plain": [
       "       sepal length in cm  sepal width in cm  petal length in cm  \\\n",
       "count          150.000000         150.000000          150.000000   \n",
       "mean             5.843333           3.054000            3.758667   \n",
       "std              0.828066           0.433594            1.764420   \n",
       "min              4.300000           2.000000            1.000000   \n",
       "25%              5.100000           2.800000            1.600000   \n",
       "50%              5.800000           3.000000            4.350000   \n",
       "75%              6.400000           3.300000            5.100000   \n",
       "max              7.900000           4.400000            6.900000   \n",
       "\n",
       "       petal width in cm  \n",
       "count         150.000000  \n",
       "mean            1.198667  \n",
       "std             0.763161  \n",
       "min             0.100000  \n",
       "25%             0.300000  \n",
       "50%             1.300000  \n",
       "75%             1.800000  \n",
       "max             2.500000  "
      ]
     },
     "execution_count": 119,
     "metadata": {},
     "output_type": "execute_result"
    }
   ],
   "source": [
    "# summary of the 4 variables of Iris dataset.\n",
    "# The describe() method returns description of the data in the dataframe. As the dataframe contains numerical data, the description contains these information for each column: \n",
    "# count, mean, std, min, 25%, 50%, 75%, max\n",
    "# https://www.w3schools.com/python/pandas/ref_df_describe.asp#:~:text=The%20describe()%20method%20returns,The%20average%20(mean)%20value.   (see .describe() method )\n",
    "iris_data.describe()"
   ]
  },
  {
   "cell_type": "markdown",
   "id": "a330eeec",
   "metadata": {},
   "source": [
    "* Create a Summary of each data set variable"
   ]
  },
  {
   "cell_type": "code",
   "execution_count": 120,
   "id": "12378a6c",
   "metadata": {},
   "outputs": [],
   "source": [
    "# here I used for loop to actually loop through the columns in order to save them into txt files.\n",
    "# reference : https://stackoverflow.com/questions/28218698/how-to-iterate-over-columns-of-a-pandas-dataframe#:~:text=We%20can%20use%20Python%27s%20list%20slicing%20easily%20to%20slice%20df.columns%20according%20to%20our%20needs.%20For%20eg%2C%20to%20iterate%20over%20all%20columns%20but%20the%20first%20one%2C%20we%20can%20do%3A\n",
    "\n",
    "# I skip the class. I applied the negative indexing method.\n",
    "for column in iris_data.columns[:-1]:  \n",
    "    # summary of each column\n",
    "    summary = iris_data[column].describe()\n",
    "    # create a file for each column, add the file name and format\n",
    "    # f-string formatting will generate a filename based on each column name.\n",
    "    file_name = f\"summary of {column}.txt\"\n",
    "    # open each file created previosuly, and overwrite the summary of each variable accordn=ingly\n",
    "    with open(file_name, \"w\") as f:\n",
    "        f.write(summary.to_string())"
   ]
  },
  {
   "cell_type": "markdown",
   "id": "751f628e",
   "metadata": {},
   "source": [
    "### Saving a histogram of each variable to png files  \n",
    "\n",
    "*   Create Histograms\n"
   ]
  },
  {
   "cell_type": "code",
   "execution_count": 121,
   "id": "27dad4eb",
   "metadata": {},
   "outputs": [],
   "source": [
    "# to simplify the reading and coding, assign a variable for each feature of the data set.\n",
    "sepal_length    = iris_data['sepal length in cm']\n",
    "sepal_width     = iris_data['sepal width in cm']\n",
    "petal_length    = iris_data['petal length in cm']\n",
    "petal_width     = iris_data['petal width in cm']"
   ]
  },
  {
   "cell_type": "code",
   "execution_count": 122,
   "id": "74d5227c",
   "metadata": {},
   "outputs": [
    {
     "data": {
      "text/plain": [
       "<Figure size 640x480 with 0 Axes>"
      ]
     },
     "metadata": {},
     "output_type": "display_data"
    }
   ],
   "source": [
    "# plot a histogram for each variable\n",
    "# reference : https://matplotlib.org/stable/api/_as_gen/matplotlib.pyplot.hist.html#:~:text=pyplot.hist(x%2C%20bins%3DNone%2C\n",
    "\n",
    "# 1st histogram\n",
    "plt.hist(sepal_length, ec='k', color='purple', alpha=0.6)\n",
    "# add x label\n",
    "# reference : https://matplotlib.org/stable/api/axes_api.html#axis-labels-title-and-legend:~:text=in%20increasing%20order.-,Axis%20labels%2C%20title%2C%20and%20legend,-%23\n",
    "plt.xlabel(\"Sepal Length in cm\")\n",
    "# add y label\n",
    "plt.ylabel(\"count\")\n",
    "# add title\n",
    "plt.title(\"Sepal Length Distribution\")\n",
    "# save histogram in .png file \n",
    "# reference : # https://matplotlib.org/stable/api/_as_gen/matplotlib.pyplot.savefig.html\n",
    "plt.savefig(\"histogram of sepal length.png\")\n",
    "#clear the current figure.\n",
    "\n",
    "plt.clf()"
   ]
  },
  {
   "cell_type": "code",
   "execution_count": 123,
   "id": "941b55b4",
   "metadata": {},
   "outputs": [
    {
     "data": {
      "text/plain": [
       "<Figure size 640x480 with 0 Axes>"
      ]
     },
     "metadata": {},
     "output_type": "display_data"
    }
   ],
   "source": [
    "# 2nd histogram\n",
    "plt.hist(sepal_width, ec='k', color='green', alpha=0.6)\n",
    "# add x label\n",
    "plt.xlabel(\"Sepal Width in cm\")\n",
    "# add y label\n",
    "plt.ylabel(\"count\")\n",
    "# add title\n",
    "plt.title(\"Sepal Width Distribution\")\n",
    "# save\n",
    "plt.savefig(\"histogram of sepal width.png\")\n",
    "#clear the current figure.\n",
    "plt.clf()"
   ]
  },
  {
   "cell_type": "code",
   "execution_count": 124,
   "id": "a7a35ae8",
   "metadata": {},
   "outputs": [
    {
     "data": {
      "text/plain": [
       "<Figure size 640x480 with 0 Axes>"
      ]
     },
     "metadata": {},
     "output_type": "display_data"
    }
   ],
   "source": [
    "# 3rd histogram\n",
    "plt.hist(petal_length, ec='k', color='magenta', alpha=0.6)\n",
    "# add x label\n",
    "plt.xlabel(\"Petal Length in cm\")\n",
    "# add y label\n",
    "plt.ylabel(\"count\")\n",
    "# add title\n",
    "plt.title(\"Petal Length Distribution\")\n",
    "# save\n",
    "plt.savefig(\"histogram of petal length.png\")\n",
    "##clear the current figure.\n",
    "plt.clf()"
   ]
  },
  {
   "cell_type": "code",
   "execution_count": 125,
   "id": "590b7d4c",
   "metadata": {},
   "outputs": [
    {
     "data": {
      "text/plain": [
       "<Figure size 640x480 with 0 Axes>"
      ]
     },
     "metadata": {},
     "output_type": "display_data"
    }
   ],
   "source": [
    "# 4th histogram\n",
    "plt.hist(petal_width, ec='k', color='orange', alpha=0.6)\n",
    "# add x label\n",
    "plt.xlabel(\"Petal Width in cm\")\n",
    "# add why label\n",
    "plt.ylabel(\"count\")\n",
    "# add title\n",
    "plt.title(\"Petal Width Distribution\")\n",
    "# save\n",
    "plt.savefig(\"histogram of petal width.png\")\n",
    "#clear the current figure.\n",
    "plt.clf()"
   ]
  },
  {
   "cell_type": "markdown",
   "id": "e8bc80fb",
   "metadata": {},
   "source": [
    "### Otput a scatter plot of each pair of variables"
   ]
  },
  {
   "cell_type": "markdown",
   "id": "7fd211d3",
   "metadata": {},
   "source": [
    "*   Identify pairs count within data set variables"
   ]
  },
  {
   "cell_type": "code",
   "execution_count": 126,
   "id": "df58e614",
   "metadata": {},
   "outputs": [
    {
     "name": "stdout",
     "output_type": "stream",
     "text": [
      "('sepal_length', 'sepal_width')\n",
      "('sepal_length', 'petal_length')\n",
      "('sepal_length', 'petal_width')\n",
      "('sepal_width', 'petal_length')\n",
      "('sepal_width', 'petal_width')\n",
      "('petal_length', 'petal_width')\n"
     ]
    }
   ],
   "source": [
    "# finding how many pairs of variables before coding the scatter plots.\n",
    "# I did manually find 6 pairs across al the 4 variables.\n",
    "# I also looked up the documentation to try and find a function that generates the pairs count within a data set, this is helpful to manage larger data sets.\n",
    "\n",
    "# The input list that I used to find the cominations.\n",
    "columns = ['sepal_length', 'sepal_width', 'petal_length', 'petal_width']\n",
    "\n",
    "# imported in cell 1 itertools package to apply the combination methid into python.\n",
    "# itertools helps to create and work with repeated or unique patterns from a given list.\n",
    "# reference : https://docs.python.org/3/library/itertools.html#itertools.combinations\n",
    "# reference : https://www.geeksforgeeks.org/python-itertools-combinations-function/\n",
    "\n",
    "# to generate all possible combination.(length = 2) generates pairs where the order doesn't matter.\n",
    "# reference : https://www.geeksforgeeks.org/python-itertools-combinations-function/#:~:text=%23%20generate%20all%20combinations%20of%20length%202\n",
    "for i in combinations(columns, 2):\n",
    "    print(i)"
   ]
  },
  {
   "cell_type": "markdown",
   "id": "1885fbcf",
   "metadata": {},
   "source": []
  },
  {
   "cell_type": "code",
   "execution_count": 127,
   "id": "bfbb3b1c",
   "metadata": {},
   "outputs": [
    {
     "ename": "NameError",
     "evalue": "name 'fig' is not defined",
     "output_type": "error",
     "traceback": [
      "\u001b[1;31m---------------------------------------------------------------------------\u001b[0m",
      "\u001b[1;31mNameError\u001b[0m                                 Traceback (most recent call last)",
      "Cell \u001b[1;32mIn[127], line 2\u001b[0m\n\u001b[0;32m      1\u001b[0m \u001b[38;5;66;03m# add a fig titlesuptitle('3 iris species')\u001b[39;00m\n\u001b[1;32m----> 2\u001b[0m fig\u001b[38;5;241m.\u001b[39msuptitle(\u001b[38;5;124m'\u001b[39m\u001b[38;5;124m Scatter Plots of each pair of variables \u001b[39m\u001b[38;5;130;01m\\n\u001b[39;00m\u001b[38;5;124m Iris data set \u001b[39m\u001b[38;5;124m'\u001b[39m, fontsize \u001b[38;5;241m=\u001b[39m \u001b[38;5;241m15\u001b[39m, color \u001b[38;5;241m=\u001b[39m \u001b[38;5;124m'\u001b[39m\u001b[38;5;124mgreen\u001b[39m\u001b[38;5;124m'\u001b[39m, )\n\u001b[0;32m      3\u001b[0m \u001b[38;5;66;03m# subplots adjust parameters\u001b[39;00m\n\u001b[0;32m      4\u001b[0m \u001b[38;5;66;03m#\u001b[39;00m\n\u001b[0;32m      5\u001b[0m plt\u001b[38;5;241m.\u001b[39msubplots_adjust(hspace\u001b[38;5;241m=\u001b[39m\u001b[38;5;241m0.3\u001b[39m, top\u001b[38;5;241m=\u001b[39m\u001b[38;5;241m0.9\u001b[39m)\n",
      "\u001b[1;31mNameError\u001b[0m: name 'fig' is not defined"
     ]
    }
   ],
   "source": [
    "# add a fig titlesuptitle('3 iris species')\n",
    "fig.suptitle(' Scatter Plots of each pair of variables \\n Iris data set ', fontsize = 15, color = 'green', )\n",
    "# subplots adjust parameters\n",
    "#\n",
    "plt.subplots_adjust(hspace=0.3, top=0.9)\n",
    "\n",
    "# 1st plot (Scatter plot of Sepal Length vs Sepal Width ) in 1st row, 1st , with color refernce to iris species\n",
    "# reference : https://monayo.medium.com/creating-a-scatter-plot-where-points-are-colored-according-to-a-categorical-variable-in-python-c9624be2f39c#:~:text=plt.scatter(iris%5B%27Petal.Length%27%5D%2Ciris%5B%27Sepal.Length%27%5D%2Cc%3Dcolors)\n",
    "\n",
    "axs[0, 0].scatter(sepal_length, sepal_width, marker='.',  c=colors)\n",
    "# add a grid to simplfy repering the corresponding points\n",
    "axs[0, 0].grid(color='blue', linestyle='--', linewidth=0.05)\n",
    "# set x and y axis labels\n",
    "axs[0, 0].set_xlabel('sepal length in cm')\n",
    "axs[0, 0].set_ylabel('sepal width in cm')\n",
    "\n",
    "\n",
    "# 2nd plot (Scatter plot of Sepal Length vs Petal Length) in 1st row, 2nd column\n",
    "axs[0, 1].scatter(sepal_length, petal_length, marker='.',  c=colors)\n",
    "axs[0, 1].grid(color='blue', linestyle='--', linewidth=0.05)\n",
    "axs[0, 1].set_xlabel('sepal length in cm')\n",
    "axs[0, 1].set_ylabel('petal length in cm')\n"
   ]
  },
  {
   "cell_type": "markdown",
   "id": "a9dbc60a",
   "metadata": {},
   "source": []
  },
  {
   "cell_type": "code",
   "execution_count": null,
   "id": "625663ff",
   "metadata": {},
   "outputs": [],
   "source": []
  },
  {
   "cell_type": "markdown",
   "id": "c8bb0e7c",
   "metadata": {},
   "source": [
    "### Part 2 : \n",
    "#### My personal approach to additional data processing methods"
   ]
  },
  {
   "cell_type": "markdown",
   "id": "3cac2d4a",
   "metadata": {},
   "source": [
    "### Boxplots"
   ]
  },
  {
   "cell_type": "markdown",
   "id": "40306235",
   "metadata": {},
   "source": [
    "*   Create Boxplots"
   ]
  },
  {
   "cell_type": "code",
   "execution_count": null,
   "id": "045a08a7",
   "metadata": {},
   "outputs": [
    {
     "ename": "NameError",
     "evalue": "name 'iris' is not defined",
     "output_type": "error",
     "traceback": [
      "\u001b[1;31m---------------------------------------------------------------------------\u001b[0m",
      "\u001b[1;31mNameError\u001b[0m                                 Traceback (most recent call last)",
      "Cell \u001b[1;32mIn[15], line 10\u001b[0m\n\u001b[0;32m      8\u001b[0m plt\u001b[38;5;241m.\u001b[39mfigure(figsize\u001b[38;5;241m=\u001b[39m(\u001b[38;5;241m10\u001b[39m, \u001b[38;5;241m6\u001b[39m))\n\u001b[0;32m      9\u001b[0m \u001b[38;5;66;03m# reference : https://stackoverflow.com/questions/58576394/plotting-boxplot-with-sns#:~:text=sns.boxplot(x%3D%27value%27%2C%20y%3D%22X%22%2C%20data%3Ddata_st%2Chue%3Dy%2Cpalette%3D%27Set1%27)\u001b[39;00m\n\u001b[1;32m---> 10\u001b[0m sns\u001b[38;5;241m.\u001b[39mboxplot(x\u001b[38;5;241m=\u001b[39m\u001b[38;5;124m'\u001b[39m\u001b[38;5;124mfeature\u001b[39m\u001b[38;5;124m'\u001b[39m, y\u001b[38;5;241m=\u001b[39m\u001b[38;5;124m'\u001b[39m\u001b[38;5;124mmeasurement\u001b[39m\u001b[38;5;124m'\u001b[39m, hue\u001b[38;5;241m=\u001b[39m\u001b[38;5;124m'\u001b[39m\u001b[38;5;124mspecies\u001b[39m\u001b[38;5;124m'\u001b[39m, data\u001b[38;5;241m=\u001b[39miris)\n\u001b[0;32m     12\u001b[0m \u001b[38;5;66;03m# draw lines \u001b[39;00m\n\u001b[0;32m     13\u001b[0m \u001b[38;5;28;01mfor\u001b[39;00m x \u001b[38;5;129;01min\u001b[39;00m []: \n",
      "\u001b[1;31mNameError\u001b[0m: name 'iris' is not defined"
     ]
    },
    {
     "data": {
      "text/plain": [
       "<Figure size 1000x600 with 0 Axes>"
      ]
     },
     "metadata": {},
     "output_type": "display_data"
    }
   ],
   "source": [
    "# documentation :\n",
    "# load Iris dataset using seaborn.load_dataset() method, which allows users to quickly load sample datasets provided by Seaborn. \n",
    "\n",
    "# Seaborn library is previously imported (as sns).\n",
    "iris_ds = sns.load_dataset('iris')\n",
    "\n",
    "# create the boxplot\n",
    "plt.figure(figsize=(10, 6))\n",
    "# reference : https://stackoverflow.com/questions/58576394/plotting-boxplot-with-sns#:~:text=sns.boxplot(x%3D%27value%27%2C%20y%3D%22X%22%2C%20data%3Ddata_st%2Chue%3Dy%2Cpalette%3D%27Set1%27)\n",
    "sns.boxplot(x='feature', y='measurement', hue='species', data=iris)\n",
    "\n",
    "# draw lines \n",
    "for x in []: \n",
    "    plt.axline(x=x, color='gray', linestyle='--', linewidth=1)\n",
    "\n",
    "# add title\n",
    "plt.title('Iris data set \\n  Variables distribution by IRIS species', c='g', alpha =0.7)\n",
    "# set x and y labels\n",
    "plt.xlabel('variables')\n",
    "plt.ylabel('measurement (cm)')\n",
    "# add meaningful\n",
    "plt.legend(title='IRIS species')\n",
    "# show\n",
    "#plt.tight_layout()\n",
    "plt.show()"
   ]
  },
  {
   "cell_type": "markdown",
   "id": "5d258893",
   "metadata": {},
   "source": [
    "*   Analysis of Boxplots \n",
    "\n",
    "#\n",
    "#"
   ]
  },
  {
   "cell_type": "markdown",
   "id": "9fa698d1",
   "metadata": {},
   "source": [
    "### Heatmaps"
   ]
  },
  {
   "cell_type": "markdown",
   "id": "6501ecf9",
   "metadata": {},
   "source": [
    "*   Create Heatmaps for each Iris species."
   ]
  },
  {
   "cell_type": "markdown",
   "id": "f8d0ee98",
   "metadata": {},
   "source": [
    "*   Analysis of Heatmaps"
   ]
  },
  {
   "cell_type": "markdown",
   "id": "f5abdefd",
   "metadata": {},
   "source": [
    "### Pairplots :\n"
   ]
  },
  {
   "cell_type": "markdown",
   "id": "523704f7",
   "metadata": {},
   "source": [
    "* Create pairplots"
   ]
  },
  {
   "cell_type": "markdown",
   "id": "2ff96d4b",
   "metadata": {},
   "source": [
    "*   Analysis of pairplots"
   ]
  }
 ],
 "metadata": {
  "kernelspec": {
   "display_name": "base",
   "language": "python",
   "name": "python3"
  },
  "language_info": {
   "codemirror_mode": {
    "name": "ipython",
    "version": 3
   },
   "file_extension": ".py",
   "mimetype": "text/x-python",
   "name": "python",
   "nbconvert_exporter": "python",
   "pygments_lexer": "ipython3",
   "version": "3.12.7"
  }
 },
 "nbformat": 4,
 "nbformat_minor": 5
}
