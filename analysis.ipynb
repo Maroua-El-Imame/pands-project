{
 "cells": [
  {
   "cell_type": "markdown",
   "id": "c92c4998",
   "metadata": {},
   "source": [
    "## **Analyzing the Iris dataset using Python**"
   ]
  },
  {
   "cell_type": "markdown",
   "id": "dbea42ae",
   "metadata": {},
   "source": [
    "### Import Python packages:"
   ]
  },
  {
   "cell_type": "code",
   "execution_count": 84,
   "id": "cea69829",
   "metadata": {},
   "outputs": [],
   "source": [
    "\n",
    "# packages will be updated according to the task progression.\n",
    "\n",
    "import csv\n",
    "# for dataframes \n",
    "import pandas as pd\n",
    "# machine Learning Library that contains datasets.\n",
    "import sklearn as skl \n",
    "# plotting library\n",
    "import matplotlib.pyplot as plt\n",
    "\n"
   ]
  },
  {
   "cell_type": "markdown",
   "id": "8895932f",
   "metadata": {},
   "source": [
    "### Output a summary of each Iris dataset variable to a single text file  \n"
   ]
  },
  {
   "cell_type": "markdown",
   "id": "e4557703",
   "metadata": {},
   "source": [
    "* Load dataset"
   ]
  },
  {
   "cell_type": "code",
   "execution_count": 85,
   "id": "54e32158",
   "metadata": {},
   "outputs": [],
   "source": [
    "# Load the iris dataset.\n",
    "# using the file path as I already downloaded the IRIS dataset in csv format.\n",
    "# the method is explained in Pandas documentation \n",
    "# https://pandas.pydata.org/docs/reference/api/pandas.read_csv.html#\n",
    "# pandas.read_csv(filepath_or_buffer, *, sep=<no_default>, delimiter=None  )"
   ]
  },
  {
   "cell_type": "markdown",
   "id": "3c805748",
   "metadata": {},
   "source": [
    "* Import dataset previously downloaded"
   ]
  },
  {
   "cell_type": "code",
   "execution_count": 86,
   "metadata": {},
   "outputs": [],
   "source": [
    "# as we already imported pd and downloaded the dataset, I went to the folder where the file is saved, and through properties I did copy the file path.\n",
    "# assigning a value \n",
    "file_path = (r'C:\\Users\\marou\\Desktop\\pands\\pands-project\\iris dataset\\iris.data')\n",
    "# read the data\n",
    "iris_data = pd.read_csv(file_path )"
   ]
  },
  {
   "cell_type": "markdown",
   "id": "9ed4d5ec",
   "metadata": {},
   "source": [
    "* Dataframe"
   ]
  },
  {
   "cell_type": "code",
   "execution_count": 87,
   "id": "6a3d7d2a",
   "metadata": {},
   "outputs": [
    {
     "data": {
      "text/html": [
       "<div>\n",
       "<style scoped>\n",
       "    .dataframe tbody tr th:only-of-type {\n",
       "        vertical-align: middle;\n",
       "    }\n",
       "\n",
       "    .dataframe tbody tr th {\n",
       "        vertical-align: top;\n",
       "    }\n",
       "\n",
       "    .dataframe thead th {\n",
       "        text-align: right;\n",
       "    }\n",
       "</style>\n",
       "<table border=\"1\" class=\"dataframe\">\n",
       "  <thead>\n",
       "    <tr style=\"text-align: right;\">\n",
       "      <th></th>\n",
       "      <th>5.1</th>\n",
       "      <th>3.5</th>\n",
       "      <th>1.4</th>\n",
       "      <th>0.2</th>\n",
       "      <th>Iris-setosa</th>\n",
       "    </tr>\n",
       "  </thead>\n",
       "  <tbody>\n",
       "    <tr>\n",
       "      <th>0</th>\n",
       "      <td>4.9</td>\n",
       "      <td>3.0</td>\n",
       "      <td>1.4</td>\n",
       "      <td>0.2</td>\n",
       "      <td>Iris-setosa</td>\n",
       "    </tr>\n",
       "    <tr>\n",
       "      <th>1</th>\n",
       "      <td>4.7</td>\n",
       "      <td>3.2</td>\n",
       "      <td>1.3</td>\n",
       "      <td>0.2</td>\n",
       "      <td>Iris-setosa</td>\n",
       "    </tr>\n",
       "    <tr>\n",
       "      <th>2</th>\n",
       "      <td>4.6</td>\n",
       "      <td>3.1</td>\n",
       "      <td>1.5</td>\n",
       "      <td>0.2</td>\n",
       "      <td>Iris-setosa</td>\n",
       "    </tr>\n",
       "    <tr>\n",
       "      <th>3</th>\n",
       "      <td>5.0</td>\n",
       "      <td>3.6</td>\n",
       "      <td>1.4</td>\n",
       "      <td>0.2</td>\n",
       "      <td>Iris-setosa</td>\n",
       "    </tr>\n",
       "    <tr>\n",
       "      <th>4</th>\n",
       "      <td>5.4</td>\n",
       "      <td>3.9</td>\n",
       "      <td>1.7</td>\n",
       "      <td>0.4</td>\n",
       "      <td>Iris-setosa</td>\n",
       "    </tr>\n",
       "    <tr>\n",
       "      <th>...</th>\n",
       "      <td>...</td>\n",
       "      <td>...</td>\n",
       "      <td>...</td>\n",
       "      <td>...</td>\n",
       "      <td>...</td>\n",
       "    </tr>\n",
       "    <tr>\n",
       "      <th>144</th>\n",
       "      <td>6.7</td>\n",
       "      <td>3.0</td>\n",
       "      <td>5.2</td>\n",
       "      <td>2.3</td>\n",
       "      <td>Iris-virginica</td>\n",
       "    </tr>\n",
       "    <tr>\n",
       "      <th>145</th>\n",
       "      <td>6.3</td>\n",
       "      <td>2.5</td>\n",
       "      <td>5.0</td>\n",
       "      <td>1.9</td>\n",
       "      <td>Iris-virginica</td>\n",
       "    </tr>\n",
       "    <tr>\n",
       "      <th>146</th>\n",
       "      <td>6.5</td>\n",
       "      <td>3.0</td>\n",
       "      <td>5.2</td>\n",
       "      <td>2.0</td>\n",
       "      <td>Iris-virginica</td>\n",
       "    </tr>\n",
       "    <tr>\n",
       "      <th>147</th>\n",
       "      <td>6.2</td>\n",
       "      <td>3.4</td>\n",
       "      <td>5.4</td>\n",
       "      <td>2.3</td>\n",
       "      <td>Iris-virginica</td>\n",
       "    </tr>\n",
       "    <tr>\n",
       "      <th>148</th>\n",
       "      <td>5.9</td>\n",
       "      <td>3.0</td>\n",
       "      <td>5.1</td>\n",
       "      <td>1.8</td>\n",
       "      <td>Iris-virginica</td>\n",
       "    </tr>\n",
       "  </tbody>\n",
       "</table>\n",
       "<p>149 rows × 5 columns</p>\n",
       "</div>"
      ],
      "text/plain": [
       "     5.1  3.5  1.4  0.2     Iris-setosa\n",
       "0    4.9  3.0  1.4  0.2     Iris-setosa\n",
       "1    4.7  3.2  1.3  0.2     Iris-setosa\n",
       "2    4.6  3.1  1.5  0.2     Iris-setosa\n",
       "3    5.0  3.6  1.4  0.2     Iris-setosa\n",
       "4    5.4  3.9  1.7  0.4     Iris-setosa\n",
       "..   ...  ...  ...  ...             ...\n",
       "144  6.7  3.0  5.2  2.3  Iris-virginica\n",
       "145  6.3  2.5  5.0  1.9  Iris-virginica\n",
       "146  6.5  3.0  5.2  2.0  Iris-virginica\n",
       "147  6.2  3.4  5.4  2.3  Iris-virginica\n",
       "148  5.9  3.0  5.1  1.8  Iris-virginica\n",
       "\n",
       "[149 rows x 5 columns]"
      ]
     },
     "execution_count": 87,
     "metadata": {},
     "output_type": "execute_result"
    }
   ],
   "source": [
    "# show dataframe\n",
    "# dataset shape shows 5 columns with 149 rows. I can see that the target column (species) of the dataset is included, while the column names are not. \n",
    "# reference : https://archive.ics.uci.edu/dataset/53/iris\n",
    "iris_data"
   ]
  },
  {
   "cell_type": "code",
   "execution_count": 88,
   "id": "570f1c0f",
   "metadata": {},
   "outputs": [
    {
     "data": {
      "text/html": [
       "<div>\n",
       "<style scoped>\n",
       "    .dataframe tbody tr th:only-of-type {\n",
       "        vertical-align: middle;\n",
       "    }\n",
       "\n",
       "    .dataframe tbody tr th {\n",
       "        vertical-align: top;\n",
       "    }\n",
       "\n",
       "    .dataframe thead th {\n",
       "        text-align: right;\n",
       "    }\n",
       "</style>\n",
       "<table border=\"1\" class=\"dataframe\">\n",
       "  <thead>\n",
       "    <tr style=\"text-align: right;\">\n",
       "      <th></th>\n",
       "      <th>sepal length in cm</th>\n",
       "      <th>sepal width in cm</th>\n",
       "      <th>petal length in cm</th>\n",
       "      <th>petal width in cm</th>\n",
       "      <th>species</th>\n",
       "    </tr>\n",
       "  </thead>\n",
       "  <tbody>\n",
       "    <tr>\n",
       "      <th>0</th>\n",
       "      <td>5.1</td>\n",
       "      <td>3.5</td>\n",
       "      <td>1.4</td>\n",
       "      <td>0.2</td>\n",
       "      <td>Iris-setosa</td>\n",
       "    </tr>\n",
       "    <tr>\n",
       "      <th>1</th>\n",
       "      <td>4.9</td>\n",
       "      <td>3.0</td>\n",
       "      <td>1.4</td>\n",
       "      <td>0.2</td>\n",
       "      <td>Iris-setosa</td>\n",
       "    </tr>\n",
       "    <tr>\n",
       "      <th>2</th>\n",
       "      <td>4.7</td>\n",
       "      <td>3.2</td>\n",
       "      <td>1.3</td>\n",
       "      <td>0.2</td>\n",
       "      <td>Iris-setosa</td>\n",
       "    </tr>\n",
       "    <tr>\n",
       "      <th>3</th>\n",
       "      <td>4.6</td>\n",
       "      <td>3.1</td>\n",
       "      <td>1.5</td>\n",
       "      <td>0.2</td>\n",
       "      <td>Iris-setosa</td>\n",
       "    </tr>\n",
       "    <tr>\n",
       "      <th>4</th>\n",
       "      <td>5.0</td>\n",
       "      <td>3.6</td>\n",
       "      <td>1.4</td>\n",
       "      <td>0.2</td>\n",
       "      <td>Iris-setosa</td>\n",
       "    </tr>\n",
       "    <tr>\n",
       "      <th>...</th>\n",
       "      <td>...</td>\n",
       "      <td>...</td>\n",
       "      <td>...</td>\n",
       "      <td>...</td>\n",
       "      <td>...</td>\n",
       "    </tr>\n",
       "    <tr>\n",
       "      <th>145</th>\n",
       "      <td>6.7</td>\n",
       "      <td>3.0</td>\n",
       "      <td>5.2</td>\n",
       "      <td>2.3</td>\n",
       "      <td>Iris-virginica</td>\n",
       "    </tr>\n",
       "    <tr>\n",
       "      <th>146</th>\n",
       "      <td>6.3</td>\n",
       "      <td>2.5</td>\n",
       "      <td>5.0</td>\n",
       "      <td>1.9</td>\n",
       "      <td>Iris-virginica</td>\n",
       "    </tr>\n",
       "    <tr>\n",
       "      <th>147</th>\n",
       "      <td>6.5</td>\n",
       "      <td>3.0</td>\n",
       "      <td>5.2</td>\n",
       "      <td>2.0</td>\n",
       "      <td>Iris-virginica</td>\n",
       "    </tr>\n",
       "    <tr>\n",
       "      <th>148</th>\n",
       "      <td>6.2</td>\n",
       "      <td>3.4</td>\n",
       "      <td>5.4</td>\n",
       "      <td>2.3</td>\n",
       "      <td>Iris-virginica</td>\n",
       "    </tr>\n",
       "    <tr>\n",
       "      <th>149</th>\n",
       "      <td>5.9</td>\n",
       "      <td>3.0</td>\n",
       "      <td>5.1</td>\n",
       "      <td>1.8</td>\n",
       "      <td>Iris-virginica</td>\n",
       "    </tr>\n",
       "  </tbody>\n",
       "</table>\n",
       "<p>150 rows × 5 columns</p>\n",
       "</div>"
      ],
      "text/plain": [
       "     sepal length in cm  sepal width in cm  petal length in cm  \\\n",
       "0                   5.1                3.5                 1.4   \n",
       "1                   4.9                3.0                 1.4   \n",
       "2                   4.7                3.2                 1.3   \n",
       "3                   4.6                3.1                 1.5   \n",
       "4                   5.0                3.6                 1.4   \n",
       "..                  ...                ...                 ...   \n",
       "145                 6.7                3.0                 5.2   \n",
       "146                 6.3                2.5                 5.0   \n",
       "147                 6.5                3.0                 5.2   \n",
       "148                 6.2                3.4                 5.4   \n",
       "149                 5.9                3.0                 5.1   \n",
       "\n",
       "     petal width in cm         species  \n",
       "0                  0.2     Iris-setosa  \n",
       "1                  0.2     Iris-setosa  \n",
       "2                  0.2     Iris-setosa  \n",
       "3                  0.2     Iris-setosa  \n",
       "4                  0.2     Iris-setosa  \n",
       "..                 ...             ...  \n",
       "145                2.3  Iris-virginica  \n",
       "146                1.9  Iris-virginica  \n",
       "147                2.0  Iris-virginica  \n",
       "148                2.3  Iris-virginica  \n",
       "149                1.8  Iris-virginica  \n",
       "\n",
       "[150 rows x 5 columns]"
      ]
     },
     "execution_count": 88,
     "metadata": {},
     "output_type": "execute_result"
    }
   ],
   "source": [
    "# add meaningful columns names\n",
    "# https://archive.ics.uci.edu/dataset/53/iris ( see variables table )\n",
    "column_names = ['sepal length in cm' , 'sepal width in cm' , 'petal length in cm' , 'petal width in cm', 'species']\n",
    "iris_data = pd.read_csv(file_path, header= None, names=column_names)\n",
    "# show data frame\n",
    "iris_data"
   ]
  },
  {
   "cell_type": "markdown",
   "id": "2aa8326d",
   "metadata": {},
   "source": [
    "* Summary of each Iris dataset variable to a single text file  "
   ]
  },
  {
   "cell_type": "code",
   "execution_count": 89,
   "id": "40d09385",
   "metadata": {},
   "outputs": [
    {
     "data": {
      "text/html": [
       "<div>\n",
       "<style scoped>\n",
       "    .dataframe tbody tr th:only-of-type {\n",
       "        vertical-align: middle;\n",
       "    }\n",
       "\n",
       "    .dataframe tbody tr th {\n",
       "        vertical-align: top;\n",
       "    }\n",
       "\n",
       "    .dataframe thead th {\n",
       "        text-align: right;\n",
       "    }\n",
       "</style>\n",
       "<table border=\"1\" class=\"dataframe\">\n",
       "  <thead>\n",
       "    <tr style=\"text-align: right;\">\n",
       "      <th></th>\n",
       "      <th>sepal length in cm</th>\n",
       "      <th>sepal width in cm</th>\n",
       "      <th>petal length in cm</th>\n",
       "      <th>petal width in cm</th>\n",
       "    </tr>\n",
       "  </thead>\n",
       "  <tbody>\n",
       "    <tr>\n",
       "      <th>count</th>\n",
       "      <td>150.000000</td>\n",
       "      <td>150.000000</td>\n",
       "      <td>150.000000</td>\n",
       "      <td>150.000000</td>\n",
       "    </tr>\n",
       "    <tr>\n",
       "      <th>mean</th>\n",
       "      <td>5.843333</td>\n",
       "      <td>3.054000</td>\n",
       "      <td>3.758667</td>\n",
       "      <td>1.198667</td>\n",
       "    </tr>\n",
       "    <tr>\n",
       "      <th>std</th>\n",
       "      <td>0.828066</td>\n",
       "      <td>0.433594</td>\n",
       "      <td>1.764420</td>\n",
       "      <td>0.763161</td>\n",
       "    </tr>\n",
       "    <tr>\n",
       "      <th>min</th>\n",
       "      <td>4.300000</td>\n",
       "      <td>2.000000</td>\n",
       "      <td>1.000000</td>\n",
       "      <td>0.100000</td>\n",
       "    </tr>\n",
       "    <tr>\n",
       "      <th>25%</th>\n",
       "      <td>5.100000</td>\n",
       "      <td>2.800000</td>\n",
       "      <td>1.600000</td>\n",
       "      <td>0.300000</td>\n",
       "    </tr>\n",
       "    <tr>\n",
       "      <th>50%</th>\n",
       "      <td>5.800000</td>\n",
       "      <td>3.000000</td>\n",
       "      <td>4.350000</td>\n",
       "      <td>1.300000</td>\n",
       "    </tr>\n",
       "    <tr>\n",
       "      <th>75%</th>\n",
       "      <td>6.400000</td>\n",
       "      <td>3.300000</td>\n",
       "      <td>5.100000</td>\n",
       "      <td>1.800000</td>\n",
       "    </tr>\n",
       "    <tr>\n",
       "      <th>max</th>\n",
       "      <td>7.900000</td>\n",
       "      <td>4.400000</td>\n",
       "      <td>6.900000</td>\n",
       "      <td>2.500000</td>\n",
       "    </tr>\n",
       "  </tbody>\n",
       "</table>\n",
       "</div>"
      ],
      "text/plain": [
       "       sepal length in cm  sepal width in cm  petal length in cm  \\\n",
       "count          150.000000         150.000000          150.000000   \n",
       "mean             5.843333           3.054000            3.758667   \n",
       "std              0.828066           0.433594            1.764420   \n",
       "min              4.300000           2.000000            1.000000   \n",
       "25%              5.100000           2.800000            1.600000   \n",
       "50%              5.800000           3.000000            4.350000   \n",
       "75%              6.400000           3.300000            5.100000   \n",
       "max              7.900000           4.400000            6.900000   \n",
       "\n",
       "       petal width in cm  \n",
       "count         150.000000  \n",
       "mean            1.198667  \n",
       "std             0.763161  \n",
       "min             0.100000  \n",
       "25%             0.300000  \n",
       "50%             1.300000  \n",
       "75%             1.800000  \n",
       "max             2.500000  "
      ]
     },
     "execution_count": 89,
     "metadata": {},
     "output_type": "execute_result"
    }
   ],
   "source": [
    "# summary of the 4 variables of Iris dataset.\n",
    "# The describe() method returns description of the data in the dataframe. As the dataframe contains numerical data, the description contains these information for each column: \n",
    "# count, mean, std, min, 25%, 50%, 75%, max\n",
    "# https://www.w3schools.com/python/pandas/ref_df_describe.asp#:~:text=The%20describe()%20method%20returns,The%20average%20(mean)%20value.   (see .describe() method )\n",
    "iris_data.describe()\n"
   ]
  },
  {
   "cell_type": "code",
   "execution_count": 90,
   "id": "816c0e9e",
   "metadata": {},
   "outputs": [
    {
     "data": {
      "text/plain": [
       "count    150.000000\n",
       "mean       5.843333\n",
       "std        0.828066\n",
       "min        4.300000\n",
       "25%        5.100000\n",
       "50%        5.800000\n",
       "75%        6.400000\n",
       "max        7.900000\n",
       "Name: sepal length in cm, dtype: float64"
      ]
     },
     "execution_count": 90,
     "metadata": {},
     "output_type": "execute_result"
    }
   ],
   "source": [
    "# I can also access separatly and output a summary of each variable of iris dataset\n",
    "# examples :\n",
    "# sepal length variable\n",
    "sepal_length = iris_data['sepal length in cm']\n",
    "# summary of sepal length \n",
    "sepal_length_summary = sepal_length.describe()\n",
    "#show\n",
    "sepal_length_summary\n",
    "\n"
   ]
  },
  {
   "cell_type": "code",
   "execution_count": 91,
   "id": "c1b28200",
   "metadata": {},
   "outputs": [
    {
     "name": "stderr",
     "output_type": "stream",
     "text": [
      "C:\\Users\\marou\\AppData\\Local\\Temp\\ipykernel_14608\\1200070863.py:4: FutureWarning: Starting with pandas version 3.0 all arguments of to_csv except for the argument 'path_or_buf' will be keyword-only.\n",
      "  summary.to_csv('summary_iris.txt' , ',',  header=True, index=True)\n"
     ]
    }
   ],
   "source": [
    "# create a variable ' summary ' to store the result of dataframe describe method. \n",
    "summary = iris_data.describe()\n",
    "# save the iris dataset variables summary into a .txt \n",
    "summary.to_csv('summary_iris.txt' , ',',  header=True, index=True)\n",
    "\n",
    "# showing the header in txt file by setting the parameter header to True, hiding the index by setting it to False\n",
    "# https://pandas.pydata.org/docs/reference/api/pandas.read_csv.html ( explore .read_csv() documentation )"
   ]
  },
  {
   "cell_type": "markdown",
   "id": "751f628e",
   "metadata": {},
   "source": [
    "### Saves a histogram of each variable to png files\n"
   ]
  },
  {
   "cell_type": "code",
   "execution_count": 92,
   "id": "5f1fa536",
   "metadata": {},
   "outputs": [
    {
     "data": {
      "text/plain": [
       "['sepal length in cm',\n",
       " 'sepal width in cm',\n",
       " 'petal length in cm',\n",
       " 'petal width in cm',\n",
       " 'species']"
      ]
     },
     "execution_count": 92,
     "metadata": {},
     "output_type": "execute_result"
    }
   ],
   "source": [
    "# create a histogram for each iris dataset variable\n",
    "# I need to access each columns of the iris dataset, columns correspond to the features names (variables)\n",
    "# recal column names\n",
    "\n",
    "column_names\n"
   ]
  },
  {
   "cell_type": "code",
   "execution_count": 100,
   "id": "27dad4eb",
   "metadata": {},
   "outputs": [],
   "source": [
    "# assign a variable for each feature of the data set, to simplify the reading\n",
    "\n",
    "sepal_length    = iris_data['sepal length in cm']\n",
    "sepal_width     = iris_data['sepal width in cm']\n",
    "petal_length    = iris_data['petal length in cm']\n",
    "petal_width     = iris_data['petal width in cm']"
   ]
  },
  {
   "cell_type": "code",
   "execution_count": 103,
   "id": "0b30550a",
   "metadata": {},
   "outputs": [
    {
     "data": {
      "text/plain": [
       "(array([48.,  2., 15., 37., 25., 23.]),\n",
       " array([0.1, 0.5, 0.9, 1.3, 1.7, 2.1, 2.5]),\n",
       " <BarContainer object of 6 artists>)"
      ]
     },
     "execution_count": 103,
     "metadata": {},
     "output_type": "execute_result"
    },
    {
     "data": {
      "image/png": "[encoded data removed]",
      "text/plain": [
       "<Figure size 1200x600 with 4 Axes>"
      ]
     },
     "metadata": {},
     "output_type": "display_data"
    }
   ],
   "source": [
    "# create a figure and axis\n",
    "# method used to display Multiple Plots\n",
    "# reference : https://www.w3schools.com/Python/matplotlib_subplot.asp\n",
    "# (2,2) the figure has 2 rows, 2 columns, and this plot is the 1st plot in 1st row.\n",
    "fig, axes = plt.subplots(2, 2, figsize=(12,6))\n",
    "\n",
    "axes[0,0].set_title(\"Sepal Length\")\n",
    "axes[0,0].hist(iris_data['sepal length in cm'])\n",
    "\n",
    "# this plot is the 2nd plot in 1st row.\n",
    "\n",
    "axes[0,1].set_title(\"Sepal Width\")\n",
    "axes[0,1].hist(iris_data['sepal width in cm'], bins=5);\n",
    "\n",
    "# this plot is the first plot in 2nd row.\n",
    "\n",
    "axes[1,0].set_title(\"Petal Length\")\n",
    "axes[1,0].hist(iris_data['petal length in cm'], bins=6);\n",
    "\n",
    "# this plot is the 2nd plot in 2nd row.\n",
    "\n",
    "axes[1,1].set_title(\"Petal Width\")\n",
    "axes[1,1].hist(iris_data['petal width in cm'], bins=6)"
   ]
  },
  {
   "cell_type": "code",
   "execution_count": 104,
   "id": "7126abe8",
   "metadata": {},
   "outputs": [],
   "source": [
    "# I still need to add more parameters to this grid of histograms : mainly adjust the layout, cusomize colors , suptitle etc.\n",
    "# I also have to save histograms in png format, need to make sure of the lecturers' request if one histogram in each png, or save them individually."
   ]
  },
  {
   "cell_type": "code",
   "execution_count": null,
   "id": "1b4476a6",
   "metadata": {},
   "outputs": [],
   "source": []
  }
 ],
 "metadata": {
  "kernelspec": {
   "display_name": "base",
   "language": "python",
   "name": "python3"
  },
  "language_info": {
   "codemirror_mode": {
    "name": "ipython",
    "version": 3
   },
   "file_extension": ".py",
   "mimetype": "text/x-python",
   "name": "python",
   "nbconvert_exporter": "python",
   "pygments_lexer": "ipython3",
   "version": "3.12.7"
  }
 },
 "nbformat": 4,
 "nbformat_minor": 5
}
