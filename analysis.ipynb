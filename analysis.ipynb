{
 "cells": [
  {
   "cell_type": "markdown",
   "id": "c92c4998",
   "metadata": {},
   "source": [
    "## **Analyzing the Iris dataset using Python**"
   ]
  },
  {
   "cell_type": "markdown",
   "id": "dbea42ae",
   "metadata": {},
   "source": [
    "### Import Python packages:"
   ]
  },
  {
   "cell_type": "code",
   "execution_count": 117,
   "id": "cea69829",
   "metadata": {},
   "outputs": [],
   "source": [
    "\n",
    "# packages will be updated according to the task progression.\n",
    "\n",
    "import csv\n",
    "# for dataframes \n",
    "import pandas as pd\n",
    "# machine Learning Library that contains datasets.\n",
    "import sklearn as skl \n",
    "# plotting library\n",
    "import matplotlib.pyplot as plt\n",
    "\n"
   ]
  },
  {
   "cell_type": "markdown",
   "id": "8895932f",
   "metadata": {},
   "source": [
    "### Output a summary of each Iris dataset variable to a single text file  \n"
   ]
  },
  {
   "cell_type": "markdown",
   "id": "e4557703",
   "metadata": {},
   "source": [
    "* Load dataset"
   ]
  },
  {
   "cell_type": "code",
   "execution_count": 118,
   "id": "54e32158",
   "metadata": {},
   "outputs": [],
   "source": [
    "# Load the iris dataset.\n",
    "# using the file path as I already downloaded the IRIS dataset in csv format.\n",
    "# the method is explained in Pandas documentation \n",
    "# https://pandas.pydata.org/docs/reference/api/pandas.read_csv.html#\n",
    "# pandas.read_csv(filepath_or_buffer, *, sep=<no_default>, delimiter=None  )"
   ]
  },
  {
   "cell_type": "markdown",
   "id": "3c805748",
   "metadata": {},
   "source": [
    "* Import dataset previously downloaded"
   ]
  },
  {
   "cell_type": "code",
   "execution_count": 119,
   "metadata": {},
   "outputs": [],
   "source": [
    "# as we already imported pd and downloaded the dataset, I went to the folder where the file is saved, and through properties I did copy the file path.\n",
    "# assigning a value \n",
    "file_path = (r'C:\\Users\\marou\\Desktop\\pands\\pands-project\\iris dataset\\iris.data')\n",
    "# read the data\n",
    "iris_data = pd.read_csv(file_path )"
   ]
  },
  {
   "cell_type": "markdown",
   "id": "9ed4d5ec",
   "metadata": {},
   "source": [
    "* Dataframe"
   ]
  },
  {
   "cell_type": "code",
   "execution_count": 120,
   "id": "6a3d7d2a",
   "metadata": {},
   "outputs": [
    {
     "data": {
      "text/html": [
       "<div>\n",
       "<style scoped>\n",
       "    .dataframe tbody tr th:only-of-type {\n",
       "        vertical-align: middle;\n",
       "    }\n",
       "\n",
       "    .dataframe tbody tr th {\n",
       "        vertical-align: top;\n",
       "    }\n",
       "\n",
       "    .dataframe thead th {\n",
       "        text-align: right;\n",
       "    }\n",
       "</style>\n",
       "<table border=\"1\" class=\"dataframe\">\n",
       "  <thead>\n",
       "    <tr style=\"text-align: right;\">\n",
       "      <th></th>\n",
       "      <th>5.1</th>\n",
       "      <th>3.5</th>\n",
       "      <th>1.4</th>\n",
       "      <th>0.2</th>\n",
       "      <th>Iris-setosa</th>\n",
       "    </tr>\n",
       "  </thead>\n",
       "  <tbody>\n",
       "    <tr>\n",
       "      <th>0</th>\n",
       "      <td>4.9</td>\n",
       "      <td>3.0</td>\n",
       "      <td>1.4</td>\n",
       "      <td>0.2</td>\n",
       "      <td>Iris-setosa</td>\n",
       "    </tr>\n",
       "    <tr>\n",
       "      <th>1</th>\n",
       "      <td>4.7</td>\n",
       "      <td>3.2</td>\n",
       "      <td>1.3</td>\n",
       "      <td>0.2</td>\n",
       "      <td>Iris-setosa</td>\n",
       "    </tr>\n",
       "    <tr>\n",
       "      <th>2</th>\n",
       "      <td>4.6</td>\n",
       "      <td>3.1</td>\n",
       "      <td>1.5</td>\n",
       "      <td>0.2</td>\n",
       "      <td>Iris-setosa</td>\n",
       "    </tr>\n",
       "    <tr>\n",
       "      <th>3</th>\n",
       "      <td>5.0</td>\n",
       "      <td>3.6</td>\n",
       "      <td>1.4</td>\n",
       "      <td>0.2</td>\n",
       "      <td>Iris-setosa</td>\n",
       "    </tr>\n",
       "    <tr>\n",
       "      <th>4</th>\n",
       "      <td>5.4</td>\n",
       "      <td>3.9</td>\n",
       "      <td>1.7</td>\n",
       "      <td>0.4</td>\n",
       "      <td>Iris-setosa</td>\n",
       "    </tr>\n",
       "    <tr>\n",
       "      <th>...</th>\n",
       "      <td>...</td>\n",
       "      <td>...</td>\n",
       "      <td>...</td>\n",
       "      <td>...</td>\n",
       "      <td>...</td>\n",
       "    </tr>\n",
       "    <tr>\n",
       "      <th>144</th>\n",
       "      <td>6.7</td>\n",
       "      <td>3.0</td>\n",
       "      <td>5.2</td>\n",
       "      <td>2.3</td>\n",
       "      <td>Iris-virginica</td>\n",
       "    </tr>\n",
       "    <tr>\n",
       "      <th>145</th>\n",
       "      <td>6.3</td>\n",
       "      <td>2.5</td>\n",
       "      <td>5.0</td>\n",
       "      <td>1.9</td>\n",
       "      <td>Iris-virginica</td>\n",
       "    </tr>\n",
       "    <tr>\n",
       "      <th>146</th>\n",
       "      <td>6.5</td>\n",
       "      <td>3.0</td>\n",
       "      <td>5.2</td>\n",
       "      <td>2.0</td>\n",
       "      <td>Iris-virginica</td>\n",
       "    </tr>\n",
       "    <tr>\n",
       "      <th>147</th>\n",
       "      <td>6.2</td>\n",
       "      <td>3.4</td>\n",
       "      <td>5.4</td>\n",
       "      <td>2.3</td>\n",
       "      <td>Iris-virginica</td>\n",
       "    </tr>\n",
       "    <tr>\n",
       "      <th>148</th>\n",
       "      <td>5.9</td>\n",
       "      <td>3.0</td>\n",
       "      <td>5.1</td>\n",
       "      <td>1.8</td>\n",
       "      <td>Iris-virginica</td>\n",
       "    </tr>\n",
       "  </tbody>\n",
       "</table>\n",
       "<p>149 rows × 5 columns</p>\n",
       "</div>"
      ],
      "text/plain": [
       "     5.1  3.5  1.4  0.2     Iris-setosa\n",
       "0    4.9  3.0  1.4  0.2     Iris-setosa\n",
       "1    4.7  3.2  1.3  0.2     Iris-setosa\n",
       "2    4.6  3.1  1.5  0.2     Iris-setosa\n",
       "3    5.0  3.6  1.4  0.2     Iris-setosa\n",
       "4    5.4  3.9  1.7  0.4     Iris-setosa\n",
       "..   ...  ...  ...  ...             ...\n",
       "144  6.7  3.0  5.2  2.3  Iris-virginica\n",
       "145  6.3  2.5  5.0  1.9  Iris-virginica\n",
       "146  6.5  3.0  5.2  2.0  Iris-virginica\n",
       "147  6.2  3.4  5.4  2.3  Iris-virginica\n",
       "148  5.9  3.0  5.1  1.8  Iris-virginica\n",
       "\n",
       "[149 rows x 5 columns]"
      ]
     },
     "execution_count": 120,
     "metadata": {},
     "output_type": "execute_result"
    }
   ],
   "source": [
    "# show dataframe\n",
    "# dataset shape shows 5 columns with 149 rows. I can see that the target column (species) of the dataset is included, while the column names are not. \n",
    "# reference : https://archive.ics.uci.edu/dataset/53/iris\n",
    "iris_data"
   ]
  },
  {
   "cell_type": "markdown",
   "id": "2aa8326d",
   "metadata": {},
   "source": [
    "* Summary of each Iris dataset variable"
   ]
  },
  {
   "cell_type": "code",
   "execution_count": 121,
   "id": "9299bdcf",
   "metadata": {},
   "outputs": [],
   "source": [
    "# add meaningful columns names\n",
    "# https://archive.ics.uci.edu/dataset/53/iris ( see variables table )\n",
    "column_names = ['sepal length in cm' , 'sepal width in cm' , 'petal length in cm' , 'petal width in cm', 'species']\n",
    "iris_data = pd.read_csv(file_path, header= None, names=column_names)\n",
    "# show data frame"
   ]
  },
  {
   "cell_type": "code",
   "execution_count": 122,
   "id": "40d09385",
   "metadata": {},
   "outputs": [
    {
     "data": {
      "text/html": [
       "<div>\n",
       "<style scoped>\n",
       "    .dataframe tbody tr th:only-of-type {\n",
       "        vertical-align: middle;\n",
       "    }\n",
       "\n",
       "    .dataframe tbody tr th {\n",
       "        vertical-align: top;\n",
       "    }\n",
       "\n",
       "    .dataframe thead th {\n",
       "        text-align: right;\n",
       "    }\n",
       "</style>\n",
       "<table border=\"1\" class=\"dataframe\">\n",
       "  <thead>\n",
       "    <tr style=\"text-align: right;\">\n",
       "      <th></th>\n",
       "      <th>sepal length in cm</th>\n",
       "      <th>sepal width in cm</th>\n",
       "      <th>petal length in cm</th>\n",
       "      <th>petal width in cm</th>\n",
       "    </tr>\n",
       "  </thead>\n",
       "  <tbody>\n",
       "    <tr>\n",
       "      <th>count</th>\n",
       "      <td>150.000000</td>\n",
       "      <td>150.000000</td>\n",
       "      <td>150.000000</td>\n",
       "      <td>150.000000</td>\n",
       "    </tr>\n",
       "    <tr>\n",
       "      <th>mean</th>\n",
       "      <td>5.843333</td>\n",
       "      <td>3.054000</td>\n",
       "      <td>3.758667</td>\n",
       "      <td>1.198667</td>\n",
       "    </tr>\n",
       "    <tr>\n",
       "      <th>std</th>\n",
       "      <td>0.828066</td>\n",
       "      <td>0.433594</td>\n",
       "      <td>1.764420</td>\n",
       "      <td>0.763161</td>\n",
       "    </tr>\n",
       "    <tr>\n",
       "      <th>min</th>\n",
       "      <td>4.300000</td>\n",
       "      <td>2.000000</td>\n",
       "      <td>1.000000</td>\n",
       "      <td>0.100000</td>\n",
       "    </tr>\n",
       "    <tr>\n",
       "      <th>25%</th>\n",
       "      <td>5.100000</td>\n",
       "      <td>2.800000</td>\n",
       "      <td>1.600000</td>\n",
       "      <td>0.300000</td>\n",
       "    </tr>\n",
       "    <tr>\n",
       "      <th>50%</th>\n",
       "      <td>5.800000</td>\n",
       "      <td>3.000000</td>\n",
       "      <td>4.350000</td>\n",
       "      <td>1.300000</td>\n",
       "    </tr>\n",
       "    <tr>\n",
       "      <th>75%</th>\n",
       "      <td>6.400000</td>\n",
       "      <td>3.300000</td>\n",
       "      <td>5.100000</td>\n",
       "      <td>1.800000</td>\n",
       "    </tr>\n",
       "    <tr>\n",
       "      <th>max</th>\n",
       "      <td>7.900000</td>\n",
       "      <td>4.400000</td>\n",
       "      <td>6.900000</td>\n",
       "      <td>2.500000</td>\n",
       "    </tr>\n",
       "  </tbody>\n",
       "</table>\n",
       "</div>"
      ],
      "text/plain": [
       "       sepal length in cm  sepal width in cm  petal length in cm  \\\n",
       "count          150.000000         150.000000          150.000000   \n",
       "mean             5.843333           3.054000            3.758667   \n",
       "std              0.828066           0.433594            1.764420   \n",
       "min              4.300000           2.000000            1.000000   \n",
       "25%              5.100000           2.800000            1.600000   \n",
       "50%              5.800000           3.000000            4.350000   \n",
       "75%              6.400000           3.300000            5.100000   \n",
       "max              7.900000           4.400000            6.900000   \n",
       "\n",
       "       petal width in cm  \n",
       "count         150.000000  \n",
       "mean            1.198667  \n",
       "std             0.763161  \n",
       "min             0.100000  \n",
       "25%             0.300000  \n",
       "50%             1.300000  \n",
       "75%             1.800000  \n",
       "max             2.500000  "
      ]
     },
     "execution_count": 122,
     "metadata": {},
     "output_type": "execute_result"
    }
   ],
   "source": [
    "# summary of the 4 variables of Iris dataset.\n",
    "# The describe() method returns description of the data in the dataframe. As the dataframe contains numerical data, the description contains these information for each column: \n",
    "# count, mean, std, min, 25%, 50%, 75%, max\n",
    "# https://www.w3schools.com/python/pandas/ref_df_describe.asp#:~:text=The%20describe()%20method%20returns,The%20average%20(mean)%20value.   (see .describe() method )\n",
    "iris_data.describe()"
   ]
  },
  {
   "cell_type": "code",
   "execution_count": 123,
   "id": "816c0e9e",
   "metadata": {},
   "outputs": [
    {
     "name": "stdout",
     "output_type": "stream",
     "text": [
      "count    150.000000\n",
      "mean       5.843333\n",
      "std        0.828066\n",
      "min        4.300000\n",
      "25%        5.100000\n",
      "50%        5.800000\n",
      "75%        6.400000\n",
      "max        7.900000\n",
      "Name: sepal length in cm, dtype: float64 count    150.000000\n",
      "mean       3.054000\n",
      "std        0.433594\n",
      "min        2.000000\n",
      "25%        2.800000\n",
      "50%        3.000000\n",
      "75%        3.300000\n",
      "max        4.400000\n",
      "Name: sepal width in cm, dtype: float64 count    150.000000\n",
      "mean       3.758667\n",
      "std        1.764420\n",
      "min        1.000000\n",
      "25%        1.600000\n",
      "50%        4.350000\n",
      "75%        5.100000\n",
      "max        6.900000\n",
      "Name: petal length in cm, dtype: float64 count    150.000000\n",
      "mean       1.198667\n",
      "std        0.763161\n",
      "min        0.100000\n",
      "25%        0.300000\n",
      "50%        1.300000\n",
      "75%        1.800000\n",
      "max        2.500000\n",
      "Name: petal width in cm, dtype: float64\n"
     ]
    }
   ],
   "source": [
    "# identify the Iris data set variables and output a single summary txt file of each\n",
    "# in the follwoing, I assigned a variable to each column name, and applied .describe() to output the descriptive stats.\n",
    "# sepal length summary\n",
    "sepal_length = iris_data['sepal length in cm']\n",
    "sepal_length_summary = sepal_length.describe()\n",
    "sepal_length_summary \n",
    "\n",
    "# sepal width summary\n",
    "sepal_width = iris_data['sepal width in cm']\n",
    "sepal_width_summary = sepal_width.describe()\n",
    "sepal_width_summary\n",
    "\n",
    "# petal length summary\n",
    "petal_length = iris_data['petal length in cm']\n",
    "petal_length_summary = petal_length.describe()\n",
    "petal_length_summary\n",
    "\n",
    "## petal width summary\n",
    "petal_width = iris_data['petal width in cm']\n",
    "petal_width_summary = petal_width.describe()\n",
    "petal_width_summary\n",
    "\n",
    "print(sepal_length_summary, sepal_width_summary, petal_length_summary, petal_width_summary)"
   ]
  },
  {
   "cell_type": "code",
   "execution_count": 124,
   "id": "12378a6c",
   "metadata": {},
   "outputs": [
    {
     "name": "stdout",
     "output_type": "stream",
     "text": [
      "!Note: a summary of each variable of Iris data set was saved into a single .txt file, see repository files\n"
     ]
    }
   ],
   "source": [
    "# here I used for loop to actually loop through the variable summaries to save them into txt files.\n",
    "\n",
    "# I skip the class. I applied the negative indexing method \n",
    "for column in iris_data.columns[:-1]:  \n",
    "    summary = iris_data[column].describe()\n",
    "    file_name = f\"{column}_summary.txt\"\n",
    "# save summary to individual text file\n",
    "    with open(file_name, 'w') as f:\n",
    "        f.write(summary.to_string())\n",
    "print(\"!Note: a summary of each variable of Iris data set was saved into a single .txt file, see repository files\")\n"
   ]
  },
  {
   "cell_type": "markdown",
   "id": "751f628e",
   "metadata": {},
   "source": [
    "### Saves a histogram of each variable to png files\n"
   ]
  },
  {
   "cell_type": "code",
   "execution_count": 125,
   "id": "27dad4eb",
   "metadata": {},
   "outputs": [],
   "source": [
    "# to simplify the reading and coding, assign a variable for each feature of the data set.\n",
    "\n",
    "sepal_length    = iris_data['sepal length in cm']\n",
    "sepal_width     = iris_data['sepal width in cm']\n",
    "petal_length    = iris_data['petal length in cm']\n",
    "petal_width     = iris_data['petal width in cm']"
   ]
  },
  {
   "cell_type": "code",
   "execution_count": 126,
   "id": "0b30550a",
   "metadata": {},
   "outputs": [
    {
     "data": {
      "image/png": "[encoded data removed]",
      "text/plain": [
       "<Figure size 2000x500 with 4 Axes>"
      ]
     },
     "metadata": {},
     "output_type": "display_data"
    }
   ],
   "source": [
    "# create a figure and axis\n",
    "# method used to display Multiple Plots\n",
    "# reference : https://www.w3schools.com/Python/matplotlib_subplot.asp\n",
    "# (1,4) the figure has 1 rows, 4 columns. I updated from (2,2) \n",
    "\n",
    "# Create a figure and a set of subplots\n",
    "# shareY is now set to True which will allow Y axis to be shared among all plots.  \n",
    "# reference : https://matplotlib.org/stable/api/_as_gen/matplotlib.pyplot.subplots.html#:~:text=the%20subplot%20grid.-,sharex%2C%20sharey,-bool%20or%20%7B%27none\n",
    "# create multiple subplots using plt.subplots\n",
    "# reference : https://matplotlib.org/stable/gallery/subplots_axes_and_figures/subplots_demo.html\n",
    "fig, axs = plt.subplots(1, 4, figsize=(20,5), sharey=True)\n",
    "# add suptitle for the 4 histograms\n",
    "# https://stackoverflow.com/questions/21967639/how-to-write-a-plot-title-in-more-than-one-line-using-suptitle  \n",
    "\n",
    "plt.suptitle(\"Iris data set \\n exploring each variable with a histogram\", fontsize=15, color='#915F6D')\n",
    "\n",
    "# 1st plot in the row.\n",
    "axs[0].hist(sepal_length,ec= \"k\", color='purple',alpha=0.4)\n",
    "axs[0].set_ylabel(\"samples count\",fontsize=12, color=\"k\")\n",
    "# now that Y axis is shared, I used the tick parameters to add ticks to each y axis to simplify the count reading.\n",
    "# reference : https://matplotlib.org/stable/api/_as_gen/matplotlib.axes.Axes.tick_params.html\n",
    "axs[0].yaxis.set_tick_params(labelleft=True)\n",
    "axs[0].set_xlabel(\"Sepal Length in cm\")\n",
    "\n",
    "# 2nd plot in the row.\n",
    "axs[1].hist(sepal_width,ec= \"k\", color='purple',alpha=0.6)\n",
    "axs[1].yaxis.set_tick_params(labelleft=True)\n",
    "axs[1].set_xlabel(\"Sepal Width in cm \")\n",
    "\n",
    "\n",
    "# 3rd plot in the row.\n",
    "axs[2].hist(petal_length,ec= \"k\", color='g',alpha=0.5)\n",
    "axs[2].yaxis.set_tick_params(labelleft=True)\n",
    "axs[2].set_xlabel(\"Petal Length in cm\")\n",
    "\n",
    "# 4th plot in the row.\n",
    "axs[3].hist(petal_width,ec= \"k\", color='g' ,alpha=0.6)\n",
    "axs[3].yaxis.set_tick_params(labelleft=True)\n",
    "axs[3].set_xlabel(\"Petal Width in cm\")\n",
    "\n",
    "# save fig in ong format\n",
    "plt.savefig(\"histograms.png\")\n",
    "\n"
   ]
  }
 ],
 "metadata": {
  "kernelspec": {
   "display_name": "base",
   "language": "python",
   "name": "python3"
  },
  "language_info": {
   "codemirror_mode": {
    "name": "ipython",
    "version": 3
   },
   "file_extension": ".py",
   "mimetype": "text/x-python",
   "name": "python",
   "nbconvert_exporter": "python",
   "pygments_lexer": "ipython3",
   "version": "3.12.7"
  }
 },
 "nbformat": 4,
 "nbformat_minor": 5
}
