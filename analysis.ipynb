{
 "cells": [
  {
   "cell_type": "markdown",
   "id": "c92c4998",
   "metadata": {},
   "source": [
    "### ***Analyzing the Iris dataset using Python***"
   ]
  },
  {
   "cell_type": "markdown",
   "id": "dbea42ae",
   "metadata": {},
   "source": [
    "#### Import Python packages:"
   ]
  },
  {
   "cell_type": "code",
   "execution_count": null,
   "id": "cea69829",
   "metadata": {},
   "outputs": [],
   "source": [
    "\n",
    "# packages will be updated according to the task progression.\n",
    "\n",
    "import csv\n",
    "# for dataframes \n",
    "import pandas as pd\n",
    "# machine Learning Library that contains datasets.\n",
    "import sklearn as skl \n",
    "\n"
   ]
  },
  {
   "cell_type": "markdown",
   "id": "8895932f",
   "metadata": {},
   "source": [
    "#### Summary of each Iris dataset variable to a single text file  "
   ]
  },
  {
   "cell_type": "code",
   "execution_count": 46,
   "id": "54e32158",
   "metadata": {},
   "outputs": [],
   "source": [
    "# Load the iris dataset.\n",
    "# using the file path as I already downloaded the IRIS dataset in csv format.\n",
    "# the method is explained in Pandas documentation \n",
    "# reference 1 : https://pandas.pydata.org/docs/reference/api/pandas.read_csv.html#\n",
    "# pandas.read_csv(filepath_or_buffer, *, sep=<no_default>, delimiter=None  )"
   ]
  },
  {
   "cell_type": "code",
   "execution_count": 52,
   "metadata": {},
   "outputs": [
    {
     "name": "stdout",
     "output_type": "stream",
     "text": [
      "     5.1  3.5  1.4  0.2     Iris-setosa\n",
      "0    4.9  3.0  1.4  0.2     Iris-setosa\n",
      "1    4.7  3.2  1.3  0.2     Iris-setosa\n",
      "2    4.6  3.1  1.5  0.2     Iris-setosa\n",
      "3    5.0  3.6  1.4  0.2     Iris-setosa\n",
      "4    5.4  3.9  1.7  0.4     Iris-setosa\n",
      "..   ...  ...  ...  ...             ...\n",
      "144  6.7  3.0  5.2  2.3  Iris-virginica\n",
      "145  6.3  2.5  5.0  1.9  Iris-virginica\n",
      "146  6.5  3.0  5.2  2.0  Iris-virginica\n",
      "147  6.2  3.4  5.4  2.3  Iris-virginica\n",
      "148  5.9  3.0  5.1  1.8  Iris-virginica\n",
      "\n",
      "[149 rows x 5 columns]\n"
     ]
    }
   ],
   "source": [
    "# as we already imported pd and downloaded the dataset, I went to the folder where the file is saved, and through properties I did copy the file path.\n",
    "# it was not easy step, I needed to learn about the method to insert the file path as a parameter correctly in the read_csv.\n",
    "# assigning a value \n",
    "file_path = (r'C:\\Users\\marou\\Desktop\\pands\\pands-project\\iris dataset\\iris.data')\n",
    "# read the data\n",
    "iris_data = pd.read_csv(file_path)\n",
    "# show \n",
    "print(iris_data)"
   ]
  },
  {
   "cell_type": "code",
   "execution_count": 51,
   "id": "e2a51a41",
   "metadata": {},
   "outputs": [],
   "source": [
    "# I will later on access the data and outpust a fiel for each variable of the dataset.\n"
   ]
  }
 ],
 "metadata": {
  "kernelspec": {
   "display_name": "base",
   "language": "python",
   "name": "python3"
  },
  "language_info": {
   "codemirror_mode": {
    "name": "ipython",
    "version": 3
   },
   "file_extension": ".py",
   "mimetype": "text/x-python",
   "name": "python",
   "nbconvert_exporter": "python",
   "pygments_lexer": "ipython3",
   "version": "3.12.7"
  }
 },
 "nbformat": 4,
 "nbformat_minor": 5
}
